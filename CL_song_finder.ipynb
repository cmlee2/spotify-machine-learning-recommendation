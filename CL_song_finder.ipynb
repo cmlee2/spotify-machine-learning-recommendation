{
 "cells": [
  {
   "cell_type": "code",
   "execution_count": 4,
   "metadata": {},
   "outputs": [],
   "source": [
    "from dotenv import load_dotenv\n",
    "import os\n",
    "import base64\n",
    "from requests import post,get\n",
    "import json\n",
    "\n",
    "\n",
    "load_dotenv()\n",
    "\n",
    "client_id = os.getenv(\"CLIENT_ID\")\n",
    "client_secret = os.getenv(\"CLIENT_SECRET\")\n",
    "\n",
    "def get_token():\n",
    "    auth_string = client_id + \":\" + client_secret\n",
    "    auth_bytes = auth_string.encode('utf-8')\n",
    "    auth_base64 = str(base64.b64encode(auth_bytes), \"utf-8\")\n",
    "\n",
    "    url = \"https://accounts.spotify.com/api/token\"\n",
    "    headers = {\n",
    "        \"Authorization\" : \"Basic \"+ auth_base64,\n",
    "        \"Content-Type\": \"application/x-www-form-urlencoded\"\n",
    "    }\n",
    "    data = {\"grant_type\": \"client_credentials\"}\n",
    "    result = post(url, headers=headers, data=data)\n",
    "    json_result = json.loads(result.content)\n",
    "    token = json_result[\"access_token\"]\n",
    "    return token\n",
    "\n",
    "def get_auth_header(token):\n",
    "    return {\"Authorization\": \"Bearer \" + token}\n",
    "\n",
    "def search_for_artist(token, artist_name):\n",
    "    url = \"https://api.spotify.com/v1/search\"\n",
    "    headers = get_auth_header(token)\n",
    "    query = f\"?q={artist_name}&type=artist&limit=1\"\n",
    "    query_url = url + query\n",
    "    result= get(query_url, headers = headers)\n",
    "    json_result = json.loads(result.content)[\"artists\"][\"items\"]\n",
    "    if len(json_result) == 0:\n",
    "        print(\"No artist with this name exists\")\n",
    "        return None\n",
    "    \n",
    "    return json_result[0]\n",
    "\n",
    "def get_songs_recommendations(token, artist_id, min_popularity, max_popularity):\n",
    "    url = f\"https://api.spotify.com/v1/recommendations?limit=100&market=US&seed_artists={artist_id}&min_popularity={min_popularity}&max_popularity={max_popularity}\"\n",
    "    headers = get_auth_header(token)\n",
    "    result = get(url, headers= headers)\n",
    "    if result.status_code ==200:\n",
    "        json_result=json.loads(result.content)\n",
    "        return json_result['tracks']\n",
    "    else:\n",
    "        print(f\"Failed to fetch recommendations. Status code: {result.status_code}\")\n",
    "        return None\n"
   ]
  },
  {
   "cell_type": "code",
   "execution_count": 3,
   "metadata": {},
   "outputs": [],
   "source": [
    "def search_for_song(token, song_name):\n",
    "    url = \"https://api.spotify.com/v1/search\"\n",
    "    headers = get_auth_header(token)\n",
    "    query = f\"?q={song_name}&type=track&limit=1\"\n",
    "    query_url = url + query\n",
    "    result= get(query_url, headers = headers)\n",
    "    if result.status_code == 200:\n",
    "        json_result = json.loads(result.content)\n",
    "        return json_result\n",
    "    else:   \n",
    "        print(f\"Failed to find song. Status code: {result.status_code}\")\n",
    "        return None\n",
    "    \n",
    "    \n",
    "    "
   ]
  },
  {
   "cell_type": "code",
   "execution_count": 4,
   "metadata": {},
   "outputs": [],
   "source": [
    "token = get_token()\n"
   ]
  },
  {
   "cell_type": "code",
   "execution_count": 5,
   "metadata": {},
   "outputs": [],
   "source": [
    "song_name = input(\"What song do you want?\")"
   ]
  },
  {
   "cell_type": "code",
   "execution_count": 6,
   "metadata": {},
   "outputs": [],
   "source": [
    "answer = search_for_song(token, song_name)"
   ]
  },
  {
   "cell_type": "code",
   "execution_count": 9,
   "metadata": {},
   "outputs": [
    {
     "data": {
      "text/plain": [
       "'5TRPicyLGbAF2LGBFbHGvO'"
      ]
     },
     "execution_count": 9,
     "metadata": {},
     "output_type": "execute_result"
    }
   ],
   "source": [
    "\n",
    "answer['tracks']['items'][0]['id']"
   ]
  },
  {
   "cell_type": "code",
   "execution_count": 12,
   "metadata": {},
   "outputs": [
    {
     "data": {
      "text/plain": [
       "'https://i.scdn.co/image/ab67616d00001e0226f7f19c7f0381e56156c94a'"
      ]
     },
     "execution_count": 12,
     "metadata": {},
     "output_type": "execute_result"
    }
   ],
   "source": [
    "\n",
    "answer['tracks']['items'][0]['album']['images'][1]['url']"
   ]
  },
  {
   "cell_type": "code",
   "execution_count": 10,
   "metadata": {},
   "outputs": [],
   "source": [
    "from spotipy.oauth2 import SpotifyClientCredentials\n",
    "import spotipy\n",
    "def get_token():\n",
    "    cid = os.getenv(\"CLIENT_ID\")\n",
    "    secret =  os.getenv(\"CLIENT_SECRET\")\n",
    "    client_credentials_manager = SpotifyClientCredentials(client_id=cid, client_secret=secret)\n",
    "    sp = spotipy.Spotify(client_credentials_manager=client_credentials_manager)\n",
    "    return sp\n"
   ]
  },
  {
   "cell_type": "code",
   "execution_count": 2,
   "metadata": {},
   "outputs": [],
   "source": [
    "import pandas as pd\n",
    "\n",
    "\n",
    "def song_id(song):\n",
    "    sp = get_token()\n",
    "    song_id = sp.search(q=song, type = 'track', limit = 1)\n",
    "    song_id = song_id['tracks']['items'][0]['id']\n",
    "\n",
    "    track = sp.track(song_id)\n",
    "    track_features = sp.audio_analysis(song_id)\n",
    "\n",
    "    track_df = pd.DataFrame(track)\n",
    "    track_features_df = pd.DataFrame(track_features)\n",
    "\n",
    "    track_final_df = pd.merge(track_df, track_features_df, on='id')\n",
    "\n",
    "    track_final= track_final_df.tolist()\n",
    "\n",
    "    data = track_final\n",
    "\n",
    "    return data\n"
   ]
  },
  {
   "cell_type": "code",
   "execution_count": 14,
   "metadata": {},
   "outputs": [
    {
     "data": {
      "text/plain": [
       "'5TRPicyLGbAF2LGBFbHGvO'"
      ]
     },
     "execution_count": 14,
     "metadata": {},
     "output_type": "execute_result"
    }
   ],
   "source": [
    "sp = get_token()\n",
    "song_id = sp.search(q='Flashing Lights', type = 'track', limit = 1)\n",
    "song_id = song_id['tracks']['items'][0]['id']\n",
    "\n",
    "song_id\n"
   ]
  },
  {
   "cell_type": "code",
   "execution_count": 45,
   "metadata": {},
   "outputs": [
    {
     "data": {
      "text/html": [
       "<div>\n",
       "<style scoped>\n",
       "    .dataframe tbody tr th:only-of-type {\n",
       "        vertical-align: middle;\n",
       "    }\n",
       "\n",
       "    .dataframe tbody tr th {\n",
       "        vertical-align: top;\n",
       "    }\n",
       "\n",
       "    .dataframe thead th {\n",
       "        text-align: right;\n",
       "    }\n",
       "</style>\n",
       "<table border=\"1\" class=\"dataframe\">\n",
       "  <thead>\n",
       "    <tr style=\"text-align: right;\">\n",
       "      <th></th>\n",
       "      <th>song</th>\n",
       "      <th>artist</th>\n",
       "      <th>popularity</th>\n",
       "      <th>uri</th>\n",
       "    </tr>\n",
       "  </thead>\n",
       "  <tbody>\n",
       "    <tr>\n",
       "      <th>0</th>\n",
       "      <td>Flashing Lights</td>\n",
       "      <td>Kanye West</td>\n",
       "      <td>88</td>\n",
       "      <td>spotify:track:5TRPicyLGbAF2LGBFbHGvO</td>\n",
       "    </tr>\n",
       "  </tbody>\n",
       "</table>\n",
       "</div>"
      ],
      "text/plain": [
       "              song      artist  popularity  \\\n",
       "0  Flashing Lights  Kanye West          88   \n",
       "\n",
       "                                    uri  \n",
       "0  spotify:track:5TRPicyLGbAF2LGBFbHGvO  "
      ]
     },
     "execution_count": 45,
     "metadata": {},
     "output_type": "execute_result"
    }
   ],
   "source": [
    "\n",
    "track = sp.track(song_id)\n",
    "track_dict = {\n",
    "    'song': track['name'],\n",
    "    'artist': track['album']['artists'][0]['name'],\n",
    "    'popularity': track['popularity'],\n",
    "    'uri': track['uri']\n",
    "}\n",
    "track_features = sp.audio_features([song_id])\n",
    "\n",
    "track_df = pd.DataFrame([track_dict])\n",
    "track_df\n"
   ]
  },
  {
   "cell_type": "code",
   "execution_count": 46,
   "metadata": {},
   "outputs": [
    {
     "data": {
      "text/html": [
       "<div>\n",
       "<style scoped>\n",
       "    .dataframe tbody tr th:only-of-type {\n",
       "        vertical-align: middle;\n",
       "    }\n",
       "\n",
       "    .dataframe tbody tr th {\n",
       "        vertical-align: top;\n",
       "    }\n",
       "\n",
       "    .dataframe thead th {\n",
       "        text-align: right;\n",
       "    }\n",
       "</style>\n",
       "<table border=\"1\" class=\"dataframe\">\n",
       "  <thead>\n",
       "    <tr style=\"text-align: right;\">\n",
       "      <th></th>\n",
       "      <th>danceability</th>\n",
       "      <th>energy</th>\n",
       "      <th>key</th>\n",
       "      <th>loudness</th>\n",
       "      <th>mode</th>\n",
       "      <th>speechiness</th>\n",
       "      <th>acousticness</th>\n",
       "      <th>instrumentalness</th>\n",
       "      <th>liveness</th>\n",
       "      <th>valence</th>\n",
       "      <th>tempo</th>\n",
       "      <th>type</th>\n",
       "      <th>id</th>\n",
       "      <th>uri</th>\n",
       "      <th>track_href</th>\n",
       "      <th>analysis_url</th>\n",
       "      <th>duration_ms</th>\n",
       "      <th>time_signature</th>\n",
       "    </tr>\n",
       "  </thead>\n",
       "  <tbody>\n",
       "    <tr>\n",
       "      <th>0</th>\n",
       "      <td>0.639</td>\n",
       "      <td>0.628</td>\n",
       "      <td>6</td>\n",
       "      <td>-7.578</td>\n",
       "      <td>0</td>\n",
       "      <td>0.0399</td>\n",
       "      <td>0.0381</td>\n",
       "      <td>0</td>\n",
       "      <td>0.386</td>\n",
       "      <td>0.43</td>\n",
       "      <td>90.482</td>\n",
       "      <td>audio_features</td>\n",
       "      <td>5TRPicyLGbAF2LGBFbHGvO</td>\n",
       "      <td>spotify:track:5TRPicyLGbAF2LGBFbHGvO</td>\n",
       "      <td>https://api.spotify.com/v1/tracks/5TRPicyLGbAF...</td>\n",
       "      <td>https://api.spotify.com/v1/audio-analysis/5TRP...</td>\n",
       "      <td>237507</td>\n",
       "      <td>4</td>\n",
       "    </tr>\n",
       "  </tbody>\n",
       "</table>\n",
       "</div>"
      ],
      "text/plain": [
       "   danceability  energy  key  loudness  mode  speechiness  acousticness  \\\n",
       "0         0.639   0.628    6    -7.578     0       0.0399        0.0381   \n",
       "\n",
       "   instrumentalness  liveness  valence   tempo            type  \\\n",
       "0                 0     0.386     0.43  90.482  audio_features   \n",
       "\n",
       "                       id                                   uri  \\\n",
       "0  5TRPicyLGbAF2LGBFbHGvO  spotify:track:5TRPicyLGbAF2LGBFbHGvO   \n",
       "\n",
       "                                          track_href  \\\n",
       "0  https://api.spotify.com/v1/tracks/5TRPicyLGbAF...   \n",
       "\n",
       "                                        analysis_url  duration_ms  \\\n",
       "0  https://api.spotify.com/v1/audio-analysis/5TRP...       237507   \n",
       "\n",
       "   time_signature  \n",
       "0               4  "
      ]
     },
     "execution_count": 46,
     "metadata": {},
     "output_type": "execute_result"
    }
   ],
   "source": [
    "track_features_df = pd.DataFrame(track_features)\n",
    "track_features_df"
   ]
  },
  {
   "cell_type": "code",
   "execution_count": 48,
   "metadata": {},
   "outputs": [
    {
     "data": {
      "text/html": [
       "<div>\n",
       "<style scoped>\n",
       "    .dataframe tbody tr th:only-of-type {\n",
       "        vertical-align: middle;\n",
       "    }\n",
       "\n",
       "    .dataframe tbody tr th {\n",
       "        vertical-align: top;\n",
       "    }\n",
       "\n",
       "    .dataframe thead th {\n",
       "        text-align: right;\n",
       "    }\n",
       "</style>\n",
       "<table border=\"1\" class=\"dataframe\">\n",
       "  <thead>\n",
       "    <tr style=\"text-align: right;\">\n",
       "      <th></th>\n",
       "      <th>song</th>\n",
       "      <th>artist</th>\n",
       "      <th>popularity</th>\n",
       "      <th>uri</th>\n",
       "      <th>danceability</th>\n",
       "      <th>energy</th>\n",
       "      <th>key</th>\n",
       "      <th>loudness</th>\n",
       "      <th>mode</th>\n",
       "      <th>speechiness</th>\n",
       "      <th>...</th>\n",
       "      <th>liveness</th>\n",
       "      <th>valence</th>\n",
       "      <th>tempo</th>\n",
       "      <th>type</th>\n",
       "      <th>id</th>\n",
       "      <th>track_href</th>\n",
       "      <th>analysis_url</th>\n",
       "      <th>duration_ms</th>\n",
       "      <th>time_signature</th>\n",
       "      <th>duration</th>\n",
       "    </tr>\n",
       "  </thead>\n",
       "  <tbody>\n",
       "    <tr>\n",
       "      <th>0</th>\n",
       "      <td>Flashing Lights</td>\n",
       "      <td>Kanye West</td>\n",
       "      <td>88</td>\n",
       "      <td>spotify:track:5TRPicyLGbAF2LGBFbHGvO</td>\n",
       "      <td>0.639</td>\n",
       "      <td>0.628</td>\n",
       "      <td>6</td>\n",
       "      <td>-7.578</td>\n",
       "      <td>0</td>\n",
       "      <td>0.0399</td>\n",
       "      <td>...</td>\n",
       "      <td>0.386</td>\n",
       "      <td>0.43</td>\n",
       "      <td>90.482</td>\n",
       "      <td>audio_features</td>\n",
       "      <td>5TRPicyLGbAF2LGBFbHGvO</td>\n",
       "      <td>https://api.spotify.com/v1/tracks/5TRPicyLGbAF...</td>\n",
       "      <td>https://api.spotify.com/v1/audio-analysis/5TRP...</td>\n",
       "      <td>237507</td>\n",
       "      <td>4</td>\n",
       "      <td>237.507</td>\n",
       "    </tr>\n",
       "  </tbody>\n",
       "</table>\n",
       "<p>1 rows × 22 columns</p>\n",
       "</div>"
      ],
      "text/plain": [
       "              song      artist  popularity  \\\n",
       "0  Flashing Lights  Kanye West          88   \n",
       "\n",
       "                                    uri  danceability  energy  key  loudness  \\\n",
       "0  spotify:track:5TRPicyLGbAF2LGBFbHGvO         0.639   0.628    6    -7.578   \n",
       "\n",
       "   mode  speechiness  ...  liveness  valence   tempo            type  \\\n",
       "0     0       0.0399  ...     0.386     0.43  90.482  audio_features   \n",
       "\n",
       "                       id                                         track_href  \\\n",
       "0  5TRPicyLGbAF2LGBFbHGvO  https://api.spotify.com/v1/tracks/5TRPicyLGbAF...   \n",
       "\n",
       "                                        analysis_url duration_ms  \\\n",
       "0  https://api.spotify.com/v1/audio-analysis/5TRP...      237507   \n",
       "\n",
       "  time_signature  duration  \n",
       "0              4   237.507  \n",
       "\n",
       "[1 rows x 22 columns]"
      ]
     },
     "execution_count": 48,
     "metadata": {},
     "output_type": "execute_result"
    }
   ],
   "source": [
    "track_final_df = pd.merge(track_df, track_features_df, on = 'uri')\n",
    "track_final_df['duration'] = track_final_df['duration_ms']/1000\n",
    "track_final_df"
   ]
  },
  {
   "cell_type": "code",
   "execution_count": 49,
   "metadata": {},
   "outputs": [
    {
     "data": {
      "text/html": [
       "<div>\n",
       "<style scoped>\n",
       "    .dataframe tbody tr th:only-of-type {\n",
       "        vertical-align: middle;\n",
       "    }\n",
       "\n",
       "    .dataframe tbody tr th {\n",
       "        vertical-align: top;\n",
       "    }\n",
       "\n",
       "    .dataframe thead th {\n",
       "        text-align: right;\n",
       "    }\n",
       "</style>\n",
       "<table border=\"1\" class=\"dataframe\">\n",
       "  <thead>\n",
       "    <tr style=\"text-align: right;\">\n",
       "      <th></th>\n",
       "      <th>acousticness</th>\n",
       "      <th>artist</th>\n",
       "      <th>danceability</th>\n",
       "      <th>duration</th>\n",
       "      <th>energy</th>\n",
       "      <th>instrumentalness</th>\n",
       "      <th>liveness</th>\n",
       "      <th>loudness</th>\n",
       "      <th>popularity</th>\n",
       "      <th>song</th>\n",
       "      <th>speechiness</th>\n",
       "      <th>tempo</th>\n",
       "      <th>valence</th>\n",
       "    </tr>\n",
       "  </thead>\n",
       "  <tbody>\n",
       "    <tr>\n",
       "      <th>0</th>\n",
       "      <td>0.0381</td>\n",
       "      <td>Kanye West</td>\n",
       "      <td>0.639</td>\n",
       "      <td>237.507</td>\n",
       "      <td>0.628</td>\n",
       "      <td>0</td>\n",
       "      <td>0.386</td>\n",
       "      <td>-7.578</td>\n",
       "      <td>88</td>\n",
       "      <td>Flashing Lights</td>\n",
       "      <td>0.0399</td>\n",
       "      <td>90.482</td>\n",
       "      <td>0.43</td>\n",
       "    </tr>\n",
       "  </tbody>\n",
       "</table>\n",
       "</div>"
      ],
      "text/plain": [
       "   acousticness      artist  danceability  duration  energy  instrumentalness  \\\n",
       "0        0.0381  Kanye West         0.639   237.507   0.628                 0   \n",
       "\n",
       "   liveness  loudness  popularity             song  speechiness   tempo  \\\n",
       "0     0.386    -7.578          88  Flashing Lights       0.0399  90.482   \n",
       "\n",
       "   valence  \n",
       "0     0.43  "
      ]
     },
     "execution_count": 49,
     "metadata": {},
     "output_type": "execute_result"
    }
   ],
   "source": [
    "track_final_df = track_final_df[['acousticness','artist', 'danceability','duration', 'energy', 'instrumentalness', 'liveness', \n",
    "                                 'loudness', 'popularity', 'song', 'speechiness', 'tempo', 'valence']]\n",
    "track_final_df"
   ]
  }
 ],
 "metadata": {
  "kernelspec": {
   "display_name": "base",
   "language": "python",
   "name": "python3"
  },
  "language_info": {
   "codemirror_mode": {
    "name": "ipython",
    "version": 3
   },
   "file_extension": ".py",
   "mimetype": "text/x-python",
   "name": "python",
   "nbconvert_exporter": "python",
   "pygments_lexer": "ipython3",
   "version": "3.10.9"
  },
  "orig_nbformat": 4
 },
 "nbformat": 4,
 "nbformat_minor": 2
}
