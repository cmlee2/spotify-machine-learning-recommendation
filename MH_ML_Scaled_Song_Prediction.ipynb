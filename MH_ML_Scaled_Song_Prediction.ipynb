{
 "cells": [
  {
   "cell_type": "code",
   "execution_count": null,
   "metadata": {},
   "outputs": [],
   "source": [
    "# Import the required libraries and dependencies\n",
    "import pandas as pd\n",
    "import requests\n",
    "import hvplot.pandas\n",
    "from pathlib import Path\n",
    "from sklearn.cluster import KMeans\n",
    "from sklearn.decomposition import PCA\n",
    "from sklearn.preprocessing import StandardScaler"
   ]
  },
  {
   "cell_type": "code",
   "execution_count": null,
   "metadata": {},
   "outputs": [],
   "source": [
    "song = input(\"What song are you looking for?\")"
   ]
  },
  {
   "cell_type": "code",
   "execution_count": null,
   "metadata": {},
   "outputs": [],
   "source": [
    "url = f\"http://127.0.0.1:5501/api/v1.0/trackrec/{song}/\""
   ]
  },
  {
   "cell_type": "code",
   "execution_count": null,
   "metadata": {},
   "outputs": [],
   "source": [
    "response = requests.get(url)\n",
    "if response.status_code ==200:\n",
    "    data = response.json()\n",
    "else:\n",
    "    print(f\"API failed\")"
   ]
  },
  {
   "cell_type": "code",
   "execution_count": null,
   "metadata": {},
   "outputs": [],
   "source": [
    "new_df = pd.DataFrame(data)\n",
    "new_df = new_df.set_index('song')\n",
    "new_df"
   ]
  },
  {
   "cell_type": "code",
   "execution_count": null,
   "metadata": {},
   "outputs": [],
   "source": [
    "new_df.columns"
   ]
  },
  {
   "cell_type": "code",
   "execution_count": null,
   "metadata": {},
   "outputs": [],
   "source": [
    "scaler = StandardScaler()"
   ]
  },
  {
   "cell_type": "code",
   "execution_count": null,
   "metadata": {},
   "outputs": [],
   "source": [
    "song_scaler = scaler.fit(new_df[['acousticness', 'danceability', 'duration', 'energy',\n",
    "       'instrumentalness', 'liveness', 'loudness', 'popularity', 'speechiness',\n",
    "       'tempo', 'valence']])"
   ]
  },
  {
   "cell_type": "code",
   "execution_count": null,
   "metadata": {},
   "outputs": [],
   "source": [
    "song_data_scaled = song_scaler.transform(new_df[['acousticness', 'danceability', 'duration', 'energy',\n",
    "       'instrumentalness', 'liveness', 'loudness', 'popularity', 'speechiness',\n",
    "       'tempo', 'valence']])"
   ]
  },
  {
   "cell_type": "code",
   "execution_count": null,
   "metadata": {},
   "outputs": [],
   "source": [
    "df_song_scaled = pd.DataFrame(song_data_scaled, columns= ['acousticness', 'danceability', 'duration', 'energy',\n",
    "       'instrumentalness', 'liveness', 'loudness', 'popularity', 'speechiness',\n",
    "       'tempo', 'valence'])\n",
    "df_song_scaled['song'] = new_df.index\n",
    "df_song_scaled = df_song_scaled.set_index('song')\n",
    "df_song_scaled"
   ]
  },
  {
   "cell_type": "code",
   "execution_count": null,
   "metadata": {},
   "outputs": [],
   "source": [
    "model = KMeans(n_clusters=10)\n",
    "model.fit(df_song_scaled)\n",
    "song_clusters = model.predict(df_song_scaled)"
   ]
  },
  {
   "cell_type": "code",
   "execution_count": null,
   "metadata": {},
   "outputs": [],
   "source": [
    "df_song_predictions = df_song_scaled.copy()\n",
    "df_song_predictions['cluster'] = song_clusters\n",
    "df_song_predictions"
   ]
  },
  {
   "cell_type": "code",
   "execution_count": null,
   "metadata": {},
   "outputs": [],
   "source": [
    "url2 = f\"http://127.0.0.1:5501/api/v1.0/track/{song}\"\n",
    "response2 = requests.get(url2)\n",
    "if response2.status_code ==200:\n",
    "    data2 = response2.json()\n",
    "else:\n",
    "    print(f\"API failed, {response2.status_code}\")\n",
    "\n",
    "new_df2 = pd.DataFrame(data2)\n",
    "new_df2 = new_df2.set_index('song')\n",
    "new_df2"
   ]
  },
  {
   "cell_type": "code",
   "execution_count": null,
   "metadata": {},
   "outputs": [],
   "source": [
    "new_song_data_scaled = song_scaler.transform(new_df2[['acousticness', 'danceability', 'duration', 'energy',\n",
    "       'instrumentalness', 'liveness', 'loudness', 'popularity', 'speechiness',\n",
    "       'tempo', 'valence']])"
   ]
  },
  {
   "cell_type": "code",
   "execution_count": null,
   "metadata": {},
   "outputs": [],
   "source": [
    "new_df_song_scaled = pd.DataFrame(new_song_data_scaled, columns= ['acousticness', 'danceability', 'duration', 'energy',\n",
    "       'instrumentalness', 'liveness', 'loudness', 'popularity', 'speechiness',\n",
    "       'tempo', 'valence'])\n",
    "new_df_song_scaled"
   ]
  },
  {
   "cell_type": "code",
   "execution_count": null,
   "metadata": {},
   "outputs": [],
   "source": [
    "new_df_song_scaled['song'] = new_df2.index\n",
    "new_df_song_scaled = new_df_song_scaled.set_index('song')\n",
    "new_df_song_scaled"
   ]
  },
  {
   "cell_type": "code",
   "execution_count": null,
   "metadata": {},
   "outputs": [],
   "source": [
    "prediction = model.predict(new_df_song_scaled)\n",
    "print(int(prediction))"
   ]
  },
  {
   "cell_type": "code",
   "execution_count": null,
   "metadata": {},
   "outputs": [],
   "source": [
    "predicted_songs = df_song_predictions.loc[df_song_predictions['cluster']==int(prediction)]"
   ]
  },
  {
   "cell_type": "code",
   "execution_count": null,
   "metadata": {},
   "outputs": [],
   "source": [
    "predicted_songs"
   ]
  },
  {
   "cell_type": "code",
   "execution_count": null,
   "metadata": {},
   "outputs": [],
   "source": [
    "# Create the PCA model instance where n_components=2\n",
    "pca = PCA(n_components=2)"
   ]
  },
  {
   "cell_type": "code",
   "execution_count": null,
   "metadata": {},
   "outputs": [],
   "source": [
    "# Fit the df_stocks_scaled data to the PCA\n",
    "spotify_pca_data = pca.fit_transform(predicted_songs)\n",
    "\n",
    "# Review the first five rose of the PCA data\n",
    "# using bracket notation ([0:5])\n",
    "spotify_pca_data[:5]"
   ]
  },
  {
   "cell_type": "code",
   "execution_count": null,
   "metadata": {},
   "outputs": [],
   "source": [
    "# Calculate the explained variance\n",
    "pca.explained_variance_ratio_"
   ]
  },
  {
   "cell_type": "code",
   "execution_count": null,
   "metadata": {},
   "outputs": [],
   "source": [
    "# Creating a DataFrame with the PCA data\n",
    "spotify_pca_df = pd.DataFrame(spotify_pca_data, columns=[\"PC1\", \"PC2\"])\n",
    "\n",
    "# Copy the tickers names from the original data\n",
    "spotify_pca_df[\"name\"] = new_df2[\"name\"]\n",
    "\n",
    "# Set the Ticker column as index\n",
    "spotify_pca_df = spotify_pca_df.set_index(\"name\")\n",
    "\n",
    "# Review the DataFrame\n",
    "spotify_pca_df.head()"
   ]
  },
  {
   "cell_type": "code",
   "execution_count": null,
   "metadata": {},
   "outputs": [],
   "source": [
    "# Initialize the K-Means model with n_clusters=3\n",
    "model = KMeans(n_clusters=5)\n",
    "\n",
    "# Fit the model for the df_stocks_pca DataFrame\n",
    "model.fit(spotify_pca_df)\n",
    "\n",
    "# Predict the model segments (clusters)\n",
    "song_clusters = model.predict(spotify_pca_df)\n",
    "\n",
    "# Print the stock segments\n",
    "print(song_clusters)"
   ]
  },
  {
   "cell_type": "code",
   "execution_count": null,
   "metadata": {},
   "outputs": [],
   "source": [
    "# Create a copy of the df_stocks_pca DataFrame and name it as df_stocks_pca_predictions\n",
    "spotify_pca_df_predictions = spotify_pca_df.copy()\n",
    "\n",
    "# Create a new column in the DataFrame with the predicted clusters\n",
    "spotify_pca_df_predictions[\"SongCluster\"] = song_clusters\n",
    "\n",
    "# Review the DataFrame\n",
    "spotify_pca_df_predictions.head()"
   ]
  },
  {
   "cell_type": "code",
   "execution_count": null,
   "metadata": {},
   "outputs": [],
   "source": [
    "# Create the scatter plot with x=\"PC1\" and y=\"PC2\"\n",
    "spotify_pca_df_predictions.hvplot.scatter(\n",
    "    x=\"PC1\",\n",
    "    y=\"PC2\",\n",
    "    by=\"SongCluster\",\n",
    "    title = \"Scatter Plot by Song Segment - PCA=2\"\n",
    ")"
   ]
  },
  {
   "cell_type": "code",
   "execution_count": null,
   "metadata": {},
   "outputs": [],
   "source": [
    "artist_list =new_df['artist']"
   ]
  },
  {
   "cell_type": "code",
   "execution_count": null,
   "metadata": {},
   "outputs": [],
   "source": [
    "merged_list = pd.merge(predicted_songs, artist_list, how ='left', on= 'song')"
   ]
  },
  {
   "cell_type": "code",
   "execution_count": null,
   "metadata": {},
   "outputs": [],
   "source": [
    "merged_list['artist']"
   ]
  }
 ],
 "metadata": {
  "kernelspec": {
   "display_name": "base",
   "language": "python",
   "name": "python3"
  },
  "language_info": {
   "codemirror_mode": {
    "name": "ipython",
    "version": 3
   },
   "file_extension": ".py",
   "mimetype": "text/x-python",
   "name": "python",
   "nbconvert_exporter": "python",
   "pygments_lexer": "ipython3",
   "version": "3.10.9"
  },
  "orig_nbformat": 4
 },
 "nbformat": 4,
 "nbformat_minor": 2
}
