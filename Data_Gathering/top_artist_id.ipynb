{
 "cells": [
  {
   "cell_type": "code",
   "execution_count": null,
   "metadata": {},
   "outputs": [],
   "source": [
    "from dotenv import load_dotenv\n",
    "import os\n",
    "import base64\n",
    "from requests import post,get\n",
    "import json\n",
    "import requests\n",
    "\n",
    "load_dotenv()\n",
    "\n",
    "client_id = os.getenv(\"CLIENT_ID\")\n",
    "client_secret = os.getenv(\"CLIENT_SECRET\")\n",
    "\n",
    "def get_token():\n",
    "    auth_string = client_id + \":\" + client_secret\n",
    "    auth_bytes = auth_string.encode('utf-8')\n",
    "    auth_base64 = str(base64.b64encode(auth_bytes), \"utf-8\")\n",
    "\n",
    "    url = \"https://accounts.spotify.com/api/token\"\n",
    "    headers = {\n",
    "        \"Authorization\" : \"Basic \"+ auth_base64,\n",
    "        \"Content-Type\": \"application/x-www-form-urlencoded\"\n",
    "    }\n",
    "    data = {\"grant_type\": \"client_credentials\"}\n",
    "    result = post(url, headers=headers, data=data)\n",
    "    json_result = json.loads(result.content)\n",
    "    token = json_result[\"access_token\"]\n",
    "    return token\n",
    "\n",
    "def get_auth_header(token):\n",
    "    return {\"Authorization\": \"Bearer \" + token}\n",
    "\n",
    "def search_for_artist(token, artist_name):\n",
    "    url = \"https://api.spotify.com/v1/search\"\n",
    "    headers = get_auth_header(token)\n",
    "    query = f\"?q={artist_name}&type=artist&limit=1\"\n",
    "    query_url = url + query\n",
    "    result= get(query_url, headers = headers)\n",
    "    json_result = json.loads(result.content)[\"artists\"][\"items\"]\n",
    "    if len(json_result) == 0:\n",
    "        print(\"No artist with this name exists\")\n",
    "        return None\n",
    "    \n",
    "    return json_result[0]\n",
    "\n",
    "def get_songs_recommendations(token, artist_id, min_popularity, max_popularity):\n",
    "    url = f\"https://api.spotify.com/v1/recommendations?limit=100&market=US&seed_artists={artist_id}&min_popularity={min_popularity}&max_popularity={max_popularity}\"\n",
    "    headers = get_auth_header(token)\n",
    "    result = get(url, headers= headers)\n",
    "    if result.status_code ==200:\n",
    "        json_result=json.loads(result.content)\n",
    "        return json_result['tracks']\n",
    "    else:\n",
    "        print(f\"Failed to fetch recommendations. Status code: {result.status_code}\")\n",
    "        return None\n"
   ]
  },
  {
   "cell_type": "code",
   "execution_count": null,
   "metadata": {},
   "outputs": [],
   "source": [
    "import pandas as pd\n",
    "artist_df = pd.read_csv('top_artist.csv', index_col= 0)"
   ]
  },
  {
   "cell_type": "code",
   "execution_count": null,
   "metadata": {},
   "outputs": [],
   "source": [
    "artist_df"
   ]
  },
  {
   "cell_type": "code",
   "execution_count": null,
   "metadata": {},
   "outputs": [],
   "source": [
    "artists = artist_df['Artist']"
   ]
  },
  {
   "cell_type": "code",
   "execution_count": null,
   "metadata": {},
   "outputs": [],
   "source": [
    "token = get_token()\n",
    "artist_id_list = []\n",
    "for artist in artists:\n",
    "    artist_id = search_for_artist(token, artist)\n",
    "    artist_id_list.append(artist_id['id'])\n",
    "\n",
    "artist_id_list"
   ]
  },
  {
   "cell_type": "code",
   "execution_count": null,
   "metadata": {},
   "outputs": [],
   "source": [
    "artist_dict = {\n",
    "    'artist':artists,\n",
    "    'artist_id':artist_id_list\n",
    "}\n",
    "artist_id_df = pd.DataFrame(artist_dict)\n",
    "artist_id_df"
   ]
  },
  {
   "cell_type": "code",
   "execution_count": null,
   "metadata": {},
   "outputs": [],
   "source": [
    "artist_id_df.to_csv('artist_id.csv')"
   ]
  }
 ],
 "metadata": {
  "language_info": {
   "name": "python"
  },
  "orig_nbformat": 4
 },
 "nbformat": 4,
 "nbformat_minor": 2
}
