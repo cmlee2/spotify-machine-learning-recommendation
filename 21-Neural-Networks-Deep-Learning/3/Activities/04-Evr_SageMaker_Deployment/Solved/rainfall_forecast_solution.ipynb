{
 "cells": [
  {
   "attachments": {},
   "cell_type": "markdown",
   "metadata": {},
   "source": [
    "# Instructor Do: Create and Deploy a Machine Learning Model in Amazon SageMaker"
   ]
  },
  {
   "cell_type": "code",
   "execution_count": null,
   "metadata": {},
   "outputs": [],
   "source": [
    "# Initial imports\n",
    "import os\n",
    "import io\n",
    "import json\n",
    "import numpy as np\n",
    "import pandas as pd\n",
    "from pathlib import Path\n",
    "import matplotlib.pyplot as plt\n",
    "from sklearn.model_selection import train_test_split\n",
    "from sklearn.metrics import mean_squared_error, r2_score\n",
    "\n",
    "\n",
    "# Amazon SageMaker and related imports\n",
    "import sagemaker\n",
    "import sagemaker.amazon.common as smac\n",
    "from sagemaker.predictor import csv_serializer, json_deserializer\n",
    "from sagemaker import get_execution_role\n",
    "from sagemaker import image_uris\n",
    "import boto3  # AWS Python sdk\n",
    "\n",
    "%matplotlib inline"
   ]
  },
  {
   "attachments": {},
   "cell_type": "markdown",
   "metadata": {},
   "source": [
    "## Reading Data"
   ]
  },
  {
   "cell_type": "code",
   "execution_count": null,
   "metadata": {},
   "outputs": [],
   "source": [
    "# Read the weather features data\n",
    "file_path = Path(\"Data/x_austin_final.csv\")\n",
    "features = pd.read_csv(file_path)\n",
    "\n",
    "# Transforming the \"TempAvgF\" column to a vector\n",
    "X = features[\"TempAvgF\"].values.reshape(-1, 1)"
   ]
  },
  {
   "cell_type": "code",
   "execution_count": null,
   "metadata": {},
   "outputs": [],
   "source": [
    "# Read the target data (precipitation sum inches)\n",
    "file_path = Path(\"Data/y_austin_final.csv\")\n",
    "y = pd.read_csv(file_path)\n",
    "\n",
    "# Transforming y into a vector\n",
    "y = y.iloc[:, 0].values"
   ]
  },
  {
   "cell_type": "code",
   "execution_count": null,
   "metadata": {},
   "outputs": [],
   "source": [
    "# Split the data into training and testing sets\n",
    "X_train, X_test, y_train, y_test = train_test_split(X, y, test_size=0.2)"
   ]
  },
  {
   "attachments": {},
   "cell_type": "markdown",
   "metadata": {},
   "source": [
    "## Creating the Linear Regression Model\n",
    "\n",
    "### Initial Configurations"
   ]
  },
  {
   "cell_type": "code",
   "execution_count": null,
   "metadata": {},
   "outputs": [],
   "source": [
    "# Define Amazon S3 Bucket to store model data\n",
    "bucket = \"sagemaker-20230312-1736\"  #'<your_s3_bucket_name_here>'\n",
    "\n",
    "# Define prefix for data files\n",
    "prefix = \"austin-rainfall-regression\"\n",
    "\n",
    "# AWS IAM role\n",
    "role = get_execution_role()"
   ]
  },
  {
   "attachments": {},
   "cell_type": "markdown",
   "metadata": {},
   "source": [
    "### Uploading Training Data to Amazon S3"
   ]
  },
  {
   "cell_type": "code",
   "execution_count": null,
   "metadata": {},
   "outputs": [],
   "source": [
    "# Encode the training data as Protocol Buffer\n",
    "buf = io.BytesIO()\n",
    "vectors = np.array(X_train).astype(\"float32\")\n",
    "labels = np.array(y_train).astype(\"float32\")\n",
    "smac.write_numpy_to_dense_tensor(buf, vectors, labels)\n",
    "buf.seek(0)\n",
    "\n",
    "# Upload encoded training data to Amazon S3\n",
    "key = \"linear_train.data\"\n",
    "boto3.resource(\"s3\").Bucket(bucket).Object(\n",
    "    os.path.join(prefix, \"train\", key)\n",
    ").upload_fileobj(buf)\n",
    "s3_train_data = \"s3://{}/{}/train/{}\".format(bucket, prefix, key)\n",
    "print(\"Training data uploaded to: {}\".format(s3_train_data))"
   ]
  },
  {
   "attachments": {},
   "cell_type": "markdown",
   "metadata": {},
   "source": [
    "### Upload Test Data to Amazon S3"
   ]
  },
  {
   "cell_type": "code",
   "execution_count": null,
   "metadata": {},
   "outputs": [],
   "source": [
    "# Encode the testing data as Protocol Buffer\n",
    "buf = io.BytesIO()\n",
    "vectors = np.array(X_test).astype(\"float32\")\n",
    "labels = np.array(y_test).astype(\"float32\")\n",
    "smac.write_numpy_to_dense_tensor(buf, vectors, labels)\n",
    "buf.seek(0)\n",
    "\n",
    "# Upload encoded testing data to Amazon S3\n",
    "key = \"linear_test.data\"\n",
    "boto3.resource(\"s3\").Bucket(bucket).Object(\n",
    "    os.path.join(prefix, \"test\", key)\n",
    ").upload_fileobj(buf)\n",
    "s3_test_data = \"s3://{}/{}/test/{}\".format(bucket, prefix, key)\n",
    "print(\"Testing data uploaded to: {}\".format(s3_test_data))"
   ]
  },
  {
   "attachments": {},
   "cell_type": "markdown",
   "metadata": {},
   "source": [
    "### Creating Model Instance"
   ]
  },
  {
   "cell_type": "code",
   "execution_count": null,
   "metadata": {},
   "outputs": [],
   "source": [
    "# Create an instance of the linear learner algorithm\n",
    "container = image_uris.retrieve(framework=\"linear-learner\", region=boto3.Session().region_name)"
   ]
  },
  {
   "cell_type": "code",
   "execution_count": null,
   "metadata": {},
   "outputs": [],
   "source": [
    "# Start the Amazon SageMaker session\n",
    "sess = sagemaker.Session()\n",
    "\n",
    "# Create an instance of the linear learner estimator\n",
    "linear = sagemaker.estimator.Estimator(\n",
    "    container,\n",
    "    role,\n",
    "    train_instance_count=1,\n",
    "    train_instance_type=\"ml.m4.xlarge\",\n",
    "    output_path=\"s3://{}/{}/output\".format(bucket, prefix),\n",
    "    sagemaker_session=sess,\n",
    ")\n",
    "\n",
    "# Define linear learner hyperparameters\n",
    "linear.set_hyperparameters(\n",
    "    feature_dim=1,\n",
    "    mini_batch_size=100,\n",
    "    predictor_type=\"regressor\",\n",
    "    epochs=10,\n",
    "    num_models=32,\n",
    "    loss=\"absolute_loss\",\n",
    ")"
   ]
  },
  {
   "attachments": {},
   "cell_type": "markdown",
   "metadata": {},
   "source": [
    "## Training the Machine Learning Model"
   ]
  },
  {
   "cell_type": "code",
   "execution_count": null,
   "metadata": {},
   "outputs": [],
   "source": [
    "# Fitting the linear learner model with the training data\n",
    "linear.fit({\"train\": s3_train_data, \"test\": s3_test_data})"
   ]
  },
  {
   "attachments": {},
   "cell_type": "markdown",
   "metadata": {},
   "source": [
    "## Deploying the Model to Make Predictions"
   ]
  },
  {
   "cell_type": "code",
   "execution_count": null,
   "metadata": {},
   "outputs": [],
   "source": [
    "# An instance of the linear-learner predictor is created\n",
    "linear_predictor = linear.deploy(initial_instance_count=1, instance_type=\"ml.t2.medium\")"
   ]
  },
  {
   "cell_type": "code",
   "execution_count": null,
   "metadata": {},
   "outputs": [],
   "source": [
    "# Linear predictor configurations\n",
    "linear_predictor.serializer = csv_serializer\n",
    "linear_predictor.deserializer = json_deserializer"
   ]
  },
  {
   "cell_type": "code",
   "execution_count": null,
   "metadata": {},
   "outputs": [],
   "source": [
    "# Making some predictions using the test data.\n",
    "result = linear_predictor.predict(X_test)\n",
    "y_predictions = np.array([r[\"score\"] for r in result[\"predictions\"]])\n",
    "y_predictions[:5]"
   ]
  },
  {
   "attachments": {},
   "cell_type": "markdown",
   "metadata": {},
   "source": [
    "## Model Evaluation"
   ]
  },
  {
   "cell_type": "code",
   "execution_count": null,
   "metadata": {},
   "outputs": [],
   "source": [
    "# Plotting predicted Vs. actual values\n",
    "plt.plot(np.array(y_test), label=\"actual\")\n",
    "plt.plot(y_predictions, label=\"predict\")\n",
    "plt.legend()\n",
    "plt.show()"
   ]
  },
  {
   "cell_type": "code",
   "execution_count": null,
   "metadata": {},
   "outputs": [],
   "source": [
    "# Calculating the RMSE and R2 scores\n",
    "rmse = np.sqrt(mean_squared_error(y_test, y_predictions))\n",
    "r2 = r2_score(y_test, y_predictions)\n",
    "\n",
    "print(\"RMSE: {}\".format(rmse))\n",
    "print(\"R2 score: {}\".format(r2))"
   ]
  },
  {
   "attachments": {},
   "cell_type": "markdown",
   "metadata": {},
   "source": [
    "## Delete Amazon SageMaker end-point"
   ]
  },
  {
   "cell_type": "code",
   "execution_count": null,
   "metadata": {},
   "outputs": [],
   "source": [
    "sagemaker.Session().delete_endpoint(linear_predictor.endpoint)"
   ]
  }
 ],
 "metadata": {
  "file_extension": ".py",
  "kernelspec": {
   "display_name": "Python 3",
   "language": "python",
   "name": "python3"
  },
  "language_info": {
   "codemirror_mode": {
    "name": "ipython",
    "version": 3
   },
   "file_extension": ".py",
   "mimetype": "text/x-python",
   "name": "python",
   "nbconvert_exporter": "python",
   "pygments_lexer": "ipython3",
   "version": "3.7.4"
  },
  "mimetype": "text/x-python",
  "name": "python",
  "npconvert_exporter": "python",
  "pygments_lexer": "ipython3",
  "version": 3
 },
 "nbformat": 4,
 "nbformat_minor": 4
}
