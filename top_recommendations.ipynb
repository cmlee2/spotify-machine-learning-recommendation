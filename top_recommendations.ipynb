{
 "cells": [
  {
   "cell_type": "code",
   "execution_count": null,
   "metadata": {},
   "outputs": [],
   "source": [
    "# Import Dependencies\n",
    "from dotenv import load_dotenv\n",
    "import os\n",
    "import base64\n",
    "from requests import post,get\n",
    "import json\n",
    "import requests\n",
    "import pandas as pd\n",
    "\n",
    "# Load Client Secret and Credentials\n",
    "load_dotenv()\n",
    "\n",
    "# Save Client Secret and Credentials into variables\n",
    "client_id = os.getenv(\"CLIENT_ID\")\n",
    "client_secret = os.getenv(\"CLIENT_SECRET\")\n",
    "\n",
    "# Function to get token\n",
    "def get_token():\n",
    "    auth_string = client_id + \":\" + client_secret\n",
    "    auth_bytes = auth_string.encode('utf-8')\n",
    "    auth_base64 = str(base64.b64encode(auth_bytes), \"utf-8\")\n",
    "\n",
    "    url = \"https://accounts.spotify.com/api/token\"\n",
    "    headers = {\n",
    "        \"Authorization\" : \"Basic \"+ auth_base64,\n",
    "        \"Content-Type\": \"application/x-www-form-urlencoded\"\n",
    "    }\n",
    "    data = {\"grant_type\": \"client_credentials\"}\n",
    "    result = post(url, headers=headers, data=data)\n",
    "    json_result = json.loads(result.content)\n",
    "    token = json_result[\"access_token\"]\n",
    "    return token\n",
    "\n",
    "# Function to get header\n",
    "def get_auth_header(token):\n",
    "    return {\"Authorization\": \"Bearer \" + token}\n",
    "\n",
    "# Function to search for artist\n",
    "def search_for_artist(token, artist_name):\n",
    "    url = \"https://api.spotify.com/v1/search\"\n",
    "    headers = get_auth_header(token)\n",
    "    query = f\"?q={artist_name}&type=artist&limit=1\"\n",
    "    query_url = url + query\n",
    "    result= get(query_url, headers = headers)\n",
    "    json_result = json.loads(result.content)[\"artists\"][\"items\"]\n",
    "    if len(json_result) == 0:\n",
    "        print(\"No artist with this name exists\")\n",
    "        return None\n",
    "    \n",
    "    return json_result[0]\n",
    "\n",
    "# Function to get song recommendation\n",
    "def get_songs_recommendations(token, artist_id, min_popularity, max_popularity):\n",
    "    url = f\"https://api.spotify.com/v1/recommendations?limit=100&market=US&seed_artists={artist_id}&min_popularity={min_popularity}&max_popularity={max_popularity}\"\n",
    "    headers = get_auth_header(token)\n",
    "    result = get(url, headers= headers)\n",
    "    if result.status_code ==200:\n",
    "        json_result=json.loads(result.content)\n",
    "        return json_result['tracks']\n",
    "    else:\n",
    "        print(f\"Failed to fetch recommendations. Status code: {result.status_code}\")\n",
    "        return None\n"
   ]
  },
  {
   "cell_type": "code",
   "execution_count": null,
   "metadata": {},
   "outputs": [],
   "source": [
    "# Load in artist id\n",
    "artist_id_df = pd.read_csv('artist_id.csv')"
   ]
  },
  {
   "cell_type": "code",
   "execution_count": null,
   "metadata": {},
   "outputs": [],
   "source": [
    "# Save artist id as series\n",
    "artist_id_list = artist_id_df['artist_id']"
   ]
  },
  {
   "cell_type": "code",
   "execution_count": null,
   "metadata": {},
   "outputs": [],
   "source": [
    "# Break list into 3 parts\n",
    "artist_chunk1 = artist_id_list[0:1000]\n",
    "artist_chunk2 = artist_id_list[1000:2000]\n",
    "artist_chunk3 = artist_id_list[2000:3000]"
   ]
  },
  {
   "cell_type": "code",
   "execution_count": null,
   "metadata": {},
   "outputs": [],
   "source": [
    "# Get token and save recommendations for artists in first chunk\n",
    "token = get_token()\n",
    "recommended_song_list1 = []\n",
    "recommended_song_id1 = []\n",
    "\n",
    "for artist_id in artist_chunk1:\n",
    "    song_low =  get_songs_recommendations(token, artist_id, 0, 33)\n",
    "    song_med =  get_songs_recommendations(token, artist_id, 34, 66)\n",
    "    song_high =  get_songs_recommendations(token, artist_id, 67, 100)\n",
    "    songs = []\n",
    "    songs.extend(song_low)\n",
    "    songs.extend(song_med)\n",
    "    songs.extend(song_high)\n",
    "    for song in songs:\n",
    "        # print(song['name'])\n",
    "        # print(song['id'])\n",
    "        recommended_song_id1.append(song['id'])\n",
    "        for artist in song['artists']:\n",
    "        # print(artist['name'])\n",
    "        # print(\"------------\")\n",
    "            dict = {\n",
    "                'name' : song['name'],\n",
    "                'artist' : artist['name'],\n",
    "                'id': song['id'],\n",
    "                'popularity' : song['popularity'],\n",
    "\n",
    "            }\n",
    "            recommended_song_list1.append(dict)\n"
   ]
  },
  {
   "cell_type": "code",
   "execution_count": null,
   "metadata": {},
   "outputs": [],
   "source": [
    "# Get token and save recommendations for artists in second chunk\n",
    "token = get_token()\n",
    "recommended_song_list2 = []\n",
    "recommended_song_id2 = []\n",
    "\n",
    "for artist_id in artist_chunk2:\n",
    "    song_low =  get_songs_recommendations(token, artist_id, 0, 33)\n",
    "    song_med =  get_songs_recommendations(token, artist_id, 34, 66)\n",
    "    song_high =  get_songs_recommendations(token, artist_id, 67, 100)\n",
    "    songs = []\n",
    "    songs.extend(song_low)\n",
    "    songs.extend(song_med)\n",
    "    songs.extend(song_high)\n",
    "    for song in songs:\n",
    "        # print(song['name'])\n",
    "        # print(song['id'])\n",
    "        recommended_song_id2.append(song['id'])\n",
    "        for artist in song['artists']:\n",
    "        # print(artist['name'])\n",
    "        # print(\"------------\")\n",
    "            dict = {\n",
    "                'name' : song['name'],\n",
    "                'artist' : artist['name'],\n",
    "                'id': song['id'],\n",
    "                'popularity' : song['popularity'],\n",
    "\n",
    "            }\n",
    "            recommended_song_list2.append(dict)"
   ]
  },
  {
   "cell_type": "code",
   "execution_count": null,
   "metadata": {},
   "outputs": [],
   "source": [
    "# Get token and save recommendations for artists in third chunk\n",
    "token = get_token()\n",
    "recommended_song_list3 = []\n",
    "recommended_song_id3 = []\n",
    "\n",
    "\n",
    "for artist_id in artist_chunk3:\n",
    "    song_low =  get_songs_recommendations(token, artist_id, 0, 33)\n",
    "    song_med =  get_songs_recommendations(token, artist_id, 34, 66)\n",
    "    song_high =  get_songs_recommendations(token, artist_id, 67, 100)\n",
    "    songs = []\n",
    "    songs.extend(song_low)\n",
    "    songs.extend(song_med)\n",
    "    songs.extend(song_high)\n",
    "    for song in songs:\n",
    "        # print(song['name'])\n",
    "        # print(song['id'])\n",
    "        recommended_song_id3.append(song['id'])\n",
    "        for artist in song['artists']:\n",
    "        # print(artist['name'])\n",
    "        # print(\"------------\")\n",
    "            dict = {\n",
    "                'name' : song['name'],\n",
    "                'artist' : artist['name'],\n",
    "                'id': song['id'],\n",
    "                'popularity' : song['popularity'],\n",
    "\n",
    "            }\n",
    "            recommended_song_list3.append(dict)"
   ]
  },
  {
   "cell_type": "code",
   "execution_count": null,
   "metadata": {},
   "outputs": [],
   "source": [
    "# Compile into \n",
    "recommended_song_list = []\n",
    "recommended_song_list.extend(recommended_song_list1)\n",
    "recommended_song_list.extend(recommended_song_list2)\n",
    "recommended_song_list.extend(recommended_song_list3)"
   ]
  },
  {
   "cell_type": "code",
   "execution_count": null,
   "metadata": {},
   "outputs": [],
   "source": [
    "df_recommended_songs = pd.DataFrame(recommended_song_list)"
   ]
  },
  {
   "cell_type": "code",
   "execution_count": null,
   "metadata": {},
   "outputs": [],
   "source": [
    "df_recommended_songs = df_recommended_songs.drop_duplicates(subset = ['name']).reset_index(drop = True)\n",
    "df_recommended_songs"
   ]
  },
  {
   "cell_type": "code",
   "execution_count": null,
   "metadata": {},
   "outputs": [],
   "source": [
    "df_recommended_songs.to_csv('recommended_song.csv')"
   ]
  }
 ],
 "metadata": {
  "language_info": {
   "name": "python"
  },
  "orig_nbformat": 4
 },
 "nbformat": 4,
 "nbformat_minor": 2
}
